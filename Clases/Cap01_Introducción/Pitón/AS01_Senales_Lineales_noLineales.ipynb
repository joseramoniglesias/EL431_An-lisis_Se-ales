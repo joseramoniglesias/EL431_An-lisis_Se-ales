{
 "cells": [
  {
   "cell_type": "markdown",
   "source": [
    "# Sistema Lineal prueba\n",
    "# Revisa propiedad de aditividad y escalabilidad"
   ],
   "metadata": {
    "collapsed": false
   }
  },
  {
   "cell_type": "code",
   "execution_count": 1,
   "outputs": [],
   "source": [
    "import numpy as np\n",
    "import sympy as sym\n",
    "import matplotlib.pyplot as plt"
   ],
   "metadata": {
    "collapsed": false
   }
  },
  {
   "cell_type": "code",
   "execution_count": 2,
   "outputs": [],
   "source": [
    "# INGRESO\n",
    "t = sym.Symbol('t', real=True)\n",
    "x = sym.Symbol('x', real=True)\n",
    "\n",
    "# señales de entrada\n",
    "f = sym.sin(t)\n",
    "g = sym.cos(t)\n",
    "alpha = 1\n",
    "beta  = 1\n",
    "\n",
    "# sistema, aplica a entrada\n",
    "#   expresión sin evaluar\n",
    "y = sym.diff(x,t, evaluate=False)\n"
   ],
   "metadata": {
    "collapsed": false
   }
  },
  {
   "cell_type": "code",
   "execution_count": 3,
   "outputs": [],
   "source": [
    "# intervalo de t[a,b] para graficar\n",
    "a = 0\n",
    "b = 2*np.pi\n",
    "muestras = 41"
   ],
   "metadata": {
    "collapsed": false
   }
  },
  {
   "cell_type": "code",
   "execution_count": 4,
   "outputs": [],
   "source": [
    "# PROCEDIMIENTO\n",
    "# señales suma de entradas\n",
    "w = alpha*f + beta*g"
   ],
   "metadata": {
    "collapsed": false
   }
  },
  {
   "cell_type": "code",
   "execution_count": 5,
   "outputs": [],
   "source": [
    "# Sistema sobre señal de entrada\n",
    "#  se evalua la expresión con doit()\n",
    "yf = y.subs(x,f).doit()\n",
    "yg = y.subs(x,g).doit()\n",
    "yw = y.subs(x,w).doit()\n",
    "yfg = alpha*yf+ beta*yg"
   ],
   "metadata": {
    "collapsed": false
   }
  },
  {
   "cell_type": "code",
   "execution_count": 6,
   "outputs": [],
   "source": [
    "# Para gráfica\n",
    "ti = np.linspace(a,b,muestras)"
   ],
   "metadata": {
    "collapsed": false
   }
  },
  {
   "cell_type": "code",
   "execution_count": 7,
   "outputs": [],
   "source": [
    "# señales de entrada\n",
    "ft = sym.lambdify(t,f)\n",
    "gt = sym.lambdify(t,g)\n",
    "wt = sym.lambdify(t,w)"
   ],
   "metadata": {
    "collapsed": false
   }
  },
  {
   "cell_type": "code",
   "execution_count": 8,
   "outputs": [],
   "source": [
    "# señales de salida\n",
    "yft = sym.lambdify(t,yf)\n",
    "ygt = sym.lambdify(t,yg)\n",
    "ywt = sym.lambdify(t,yw)\n",
    "yfgt = sym.lambdify(t,yfg)"
   ],
   "metadata": {
    "collapsed": false
   }
  },
  {
   "cell_type": "code",
   "execution_count": 9,
   "outputs": [],
   "source": [
    "# evalua entradas ti\n",
    "fi = ft(ti)\n",
    "gi = gt(ti)\n",
    "wi = wt(ti)"
   ],
   "metadata": {
    "collapsed": false
   }
  },
  {
   "cell_type": "code",
   "execution_count": 10,
   "outputs": [],
   "source": [
    "# evalua salidas ti\n",
    "yfi = yft(ti)\n",
    "ygi = ygt(ti)\n",
    "ywi = ywt(ti)\n",
    "yfgi = yfgt(ti)\n"
   ],
   "metadata": {
    "collapsed": false
   }
  },
  {
   "cell_type": "code",
   "execution_count": 11,
   "outputs": [
    {
     "name": "stdout",
     "output_type": "stream",
     "text": [
      "yf:\n",
      "cos(t)\n",
      "yg:\n",
      "-sin(t)\n",
      "yw:\n",
      "-sin(t) + cos(t)\n",
      "yfg:\n",
      "-sin(t) + cos(t)\n"
     ]
    }
   ],
   "source": [
    "# SALIDA\n",
    "print('yf:')\n",
    "sym.pprint(yf)\n",
    "print('yg:')\n",
    "sym.pprint(yg)\n",
    "print('yw:')\n",
    "sym.pprint(yw)\n",
    "print('yfg:')\n",
    "sym.pprint(yfg)"
   ],
   "metadata": {
    "collapsed": false
   }
  },
  {
   "cell_type": "code",
   "execution_count": null,
   "outputs": [],
   "source": [],
   "metadata": {
    "collapsed": false
   }
  }
 ],
 "metadata": {
  "kernelspec": {
   "display_name": "Python 3",
   "language": "python",
   "name": "python3"
  },
  "language_info": {
   "codemirror_mode": {
    "name": "ipython",
    "version": 2
   },
   "file_extension": ".py",
   "mimetype": "text/x-python",
   "name": "python",
   "nbconvert_exporter": "python",
   "pygments_lexer": "ipython2",
   "version": "2.7.6"
  }
 },
 "nbformat": 4,
 "nbformat_minor": 0
}
