{
 "nbformat": 4,
 "nbformat_minor": 0,
 "metadata": {
  "kernelspec": {
   "display_name": "Python 3",
   "language": "python",
   "name": "python3"
  },
  "language_info": {
   "codemirror_mode": {
    "name": "ipython",
    "version": 3
   },
   "file_extension": ".py",
   "mimetype": "text/x-python",
   "name": "python",
   "nbconvert_exporter": "python",
   "pygments_lexer": "ipython3",
   "version": "3.7.1"
  },
  "colab": {
   "name": "SerieFourierEj_Trigo_Compacta.ipynb",
   "provenance": []
  },
  "widgets": {
   "application/vnd.jupyter.widget-state+json": {
    "145619a56937427bb02bdec243652ee0": {
     "model_module": "@jupyter-widgets/controls",
     "model_name": "VBoxModel",
     "model_module_version": "1.5.0",
     "state": {
      "_view_name": "VBoxView",
      "_dom_classes": [
       "widget-interact"
      ],
      "_model_name": "VBoxModel",
      "_view_module": "@jupyter-widgets/controls",
      "_model_module_version": "1.5.0",
      "_view_count": null,
      "_view_module_version": "1.5.0",
      "box_style": "",
      "layout": "IPY_MODEL_2b7f187d35474f9dae1b2a2c345c413f",
      "_model_module": "@jupyter-widgets/controls",
      "children": [
       "IPY_MODEL_a3945a16329c4cbab30a59a1cbeb0110",
       "IPY_MODEL_4968a7ab109a420e894e4122af16b836"
      ]
     }
    },
    "2b7f187d35474f9dae1b2a2c345c413f": {
     "model_module": "@jupyter-widgets/base",
     "model_name": "LayoutModel",
     "model_module_version": "1.2.0",
     "state": {
      "_view_name": "LayoutView",
      "grid_template_rows": null,
      "right": null,
      "justify_content": null,
      "_view_module": "@jupyter-widgets/base",
      "overflow": null,
      "_model_module_version": "1.2.0",
      "_view_count": null,
      "flex_flow": null,
      "width": null,
      "min_width": null,
      "border": null,
      "align_items": null,
      "bottom": null,
      "_model_module": "@jupyter-widgets/base",
      "top": null,
      "grid_column": null,
      "overflow_y": null,
      "overflow_x": null,
      "grid_auto_flow": null,
      "grid_area": null,
      "grid_template_columns": null,
      "flex": null,
      "_model_name": "LayoutModel",
      "justify_items": null,
      "grid_row": null,
      "max_height": null,
      "align_content": null,
      "visibility": null,
      "align_self": null,
      "height": null,
      "min_height": null,
      "padding": null,
      "grid_auto_rows": null,
      "grid_gap": null,
      "max_width": null,
      "order": null,
      "_view_module_version": "1.2.0",
      "grid_template_areas": null,
      "object_position": null,
      "object_fit": null,
      "grid_auto_columns": null,
      "margin": null,
      "display": null,
      "left": null
     }
    },
    "a3945a16329c4cbab30a59a1cbeb0110": {
     "model_module": "@jupyter-widgets/controls",
     "model_name": "IntSliderModel",
     "model_module_version": "1.5.0",
     "state": {
      "_view_name": "IntSliderView",
      "style": "IPY_MODEL_fb68341750cd43538f4474f425a39c7e",
      "_dom_classes": [],
      "description": "n",
      "step": 1,
      "_model_name": "IntSliderModel",
      "orientation": "horizontal",
      "max": 20,
      "_view_module": "@jupyter-widgets/controls",
      "_model_module_version": "1.5.0",
      "value": 1,
      "_view_count": null,
      "disabled": false,
      "_view_module_version": "1.5.0",
      "min": -20,
      "continuous_update": true,
      "readout_format": "d",
      "description_tooltip": null,
      "readout": true,
      "_model_module": "@jupyter-widgets/controls",
      "layout": "IPY_MODEL_b2c5704ea1774d238698c2b095149f56"
     }
    },
    "4968a7ab109a420e894e4122af16b836": {
     "model_module": "@jupyter-widgets/output",
     "model_name": "OutputModel",
     "model_module_version": "1.0.0",
     "state": {
      "_view_name": "OutputView",
      "msg_id": "",
      "_dom_classes": [],
      "_model_name": "OutputModel",
      "outputs": [
       {
        "output_type": "display_data",
        "data": {
         "image/png": "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\n",
         "text/plain": "<Figure size 432x288 with 1 Axes>"
        },
        "metadata": {
         "needs_background": "light"
        }
       }
      ],
      "_view_module": "@jupyter-widgets/output",
      "_model_module_version": "1.0.0",
      "_view_count": null,
      "_view_module_version": "1.0.0",
      "layout": "IPY_MODEL_5427f740cd794534b0bad4e18c693b6c",
      "_model_module": "@jupyter-widgets/output"
     }
    },
    "fb68341750cd43538f4474f425a39c7e": {
     "model_module": "@jupyter-widgets/controls",
     "model_name": "SliderStyleModel",
     "model_module_version": "1.5.0",
     "state": {
      "_view_name": "StyleView",
      "handle_color": null,
      "_model_name": "SliderStyleModel",
      "description_width": "",
      "_view_module": "@jupyter-widgets/base",
      "_model_module_version": "1.5.0",
      "_view_count": null,
      "_view_module_version": "1.2.0",
      "_model_module": "@jupyter-widgets/controls"
     }
    },
    "b2c5704ea1774d238698c2b095149f56": {
     "model_module": "@jupyter-widgets/base",
     "model_name": "LayoutModel",
     "model_module_version": "1.2.0",
     "state": {
      "_view_name": "LayoutView",
      "grid_template_rows": null,
      "right": null,
      "justify_content": null,
      "_view_module": "@jupyter-widgets/base",
      "overflow": null,
      "_model_module_version": "1.2.0",
      "_view_count": null,
      "flex_flow": null,
      "width": null,
      "min_width": null,
      "border": null,
      "align_items": null,
      "bottom": null,
      "_model_module": "@jupyter-widgets/base",
      "top": null,
      "grid_column": null,
      "overflow_y": null,
      "overflow_x": null,
      "grid_auto_flow": null,
      "grid_area": null,
      "grid_template_columns": null,
      "flex": null,
      "_model_name": "LayoutModel",
      "justify_items": null,
      "grid_row": null,
      "max_height": null,
      "align_content": null,
      "visibility": null,
      "align_self": null,
      "height": null,
      "min_height": null,
      "padding": null,
      "grid_auto_rows": null,
      "grid_gap": null,
      "max_width": null,
      "order": null,
      "_view_module_version": "1.2.0",
      "grid_template_areas": null,
      "object_position": null,
      "object_fit": null,
      "grid_auto_columns": null,
      "margin": null,
      "display": null,
      "left": null
     }
    },
    "5427f740cd794534b0bad4e18c693b6c": {
     "model_module": "@jupyter-widgets/base",
     "model_name": "LayoutModel",
     "model_module_version": "1.2.0",
     "state": {
      "_view_name": "LayoutView",
      "grid_template_rows": null,
      "right": null,
      "justify_content": null,
      "_view_module": "@jupyter-widgets/base",
      "overflow": null,
      "_model_module_version": "1.2.0",
      "_view_count": null,
      "flex_flow": null,
      "width": null,
      "min_width": null,
      "border": null,
      "align_items": null,
      "bottom": null,
      "_model_module": "@jupyter-widgets/base",
      "top": null,
      "grid_column": null,
      "overflow_y": null,
      "overflow_x": null,
      "grid_auto_flow": null,
      "grid_area": null,
      "grid_template_columns": null,
      "flex": null,
      "_model_name": "LayoutModel",
      "justify_items": null,
      "grid_row": null,
      "max_height": null,
      "align_content": null,
      "visibility": null,
      "align_self": null,
      "height": null,
      "min_height": null,
      "padding": null,
      "grid_auto_rows": null,
      "grid_gap": null,
      "max_width": null,
      "order": null,
      "_view_module_version": "1.2.0",
      "grid_template_areas": null,
      "object_position": null,
      "object_fit": null,
      "grid_auto_columns": null,
      "margin": null,
      "display": null,
      "left": null
     }
    },
    "1ff06a2edcd141eba1c67825a7215cd2": {
     "model_module": "@jupyter-widgets/controls",
     "model_name": "VBoxModel",
     "model_module_version": "1.5.0",
     "state": {
      "_view_name": "VBoxView",
      "_dom_classes": [
       "widget-interact"
      ],
      "_model_name": "VBoxModel",
      "_view_module": "@jupyter-widgets/controls",
      "_model_module_version": "1.5.0",
      "_view_count": null,
      "_view_module_version": "1.5.0",
      "box_style": "",
      "layout": "IPY_MODEL_fb567af8d5054f9ebcb7c26777995c18",
      "_model_module": "@jupyter-widgets/controls",
      "children": [
       "IPY_MODEL_a189de71197b423992108943b5eac08c",
       "IPY_MODEL_1440eb4a76314b6cbaad74d2a0fcabf5"
      ]
     }
    },
    "fb567af8d5054f9ebcb7c26777995c18": {
     "model_module": "@jupyter-widgets/base",
     "model_name": "LayoutModel",
     "model_module_version": "1.2.0",
     "state": {
      "_view_name": "LayoutView",
      "grid_template_rows": null,
      "right": null,
      "justify_content": null,
      "_view_module": "@jupyter-widgets/base",
      "overflow": null,
      "_model_module_version": "1.2.0",
      "_view_count": null,
      "flex_flow": null,
      "width": null,
      "min_width": null,
      "border": null,
      "align_items": null,
      "bottom": null,
      "_model_module": "@jupyter-widgets/base",
      "top": null,
      "grid_column": null,
      "overflow_y": null,
      "overflow_x": null,
      "grid_auto_flow": null,
      "grid_area": null,
      "grid_template_columns": null,
      "flex": null,
      "_model_name": "LayoutModel",
      "justify_items": null,
      "grid_row": null,
      "max_height": null,
      "align_content": null,
      "visibility": null,
      "align_self": null,
      "height": null,
      "min_height": null,
      "padding": null,
      "grid_auto_rows": null,
      "grid_gap": null,
      "max_width": null,
      "order": null,
      "_view_module_version": "1.2.0",
      "grid_template_areas": null,
      "object_position": null,
      "object_fit": null,
      "grid_auto_columns": null,
      "margin": null,
      "display": null,
      "left": null
     }
    },
    "a189de71197b423992108943b5eac08c": {
     "model_module": "@jupyter-widgets/controls",
     "model_name": "IntSliderModel",
     "model_module_version": "1.5.0",
     "state": {
      "_view_name": "IntSliderView",
      "style": "IPY_MODEL_f866277c2f73476ca35974997b090166",
      "_dom_classes": [],
      "description": "Na",
      "step": 1,
      "_model_name": "IntSliderModel",
      "orientation": "horizontal",
      "max": 20,
      "_view_module": "@jupyter-widgets/controls",
      "_model_module_version": "1.5.0",
      "value": 1,
      "_view_count": null,
      "disabled": false,
      "_view_module_version": "1.5.0",
      "min": 1,
      "continuous_update": true,
      "readout_format": "d",
      "description_tooltip": null,
      "readout": true,
      "_model_module": "@jupyter-widgets/controls",
      "layout": "IPY_MODEL_0050ccb447fc463583dddae20f0055c1"
     }
    },
    "1440eb4a76314b6cbaad74d2a0fcabf5": {
     "model_module": "@jupyter-widgets/output",
     "model_name": "OutputModel",
     "model_module_version": "1.0.0",
     "state": {
      "_view_name": "OutputView",
      "msg_id": "",
      "_dom_classes": [],
      "_model_name": "OutputModel",
      "outputs": [
       {
        "output_type": "display_data",
        "data": {
         "image/png": "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\n",
         "text/plain": "<Figure size 432x288 with 1 Axes>"
        },
        "metadata": {
         "needs_background": "light"
        }
       }
      ],
      "_view_module": "@jupyter-widgets/output",
      "_model_module_version": "1.0.0",
      "_view_count": null,
      "_view_module_version": "1.0.0",
      "layout": "IPY_MODEL_36446020fc7947ccb872070d51cd92ca",
      "_model_module": "@jupyter-widgets/output"
     }
    },
    "f866277c2f73476ca35974997b090166": {
     "model_module": "@jupyter-widgets/controls",
     "model_name": "SliderStyleModel",
     "model_module_version": "1.5.0",
     "state": {
      "_view_name": "StyleView",
      "handle_color": null,
      "_model_name": "SliderStyleModel",
      "description_width": "",
      "_view_module": "@jupyter-widgets/base",
      "_model_module_version": "1.5.0",
      "_view_count": null,
      "_view_module_version": "1.2.0",
      "_model_module": "@jupyter-widgets/controls"
     }
    },
    "0050ccb447fc463583dddae20f0055c1": {
     "model_module": "@jupyter-widgets/base",
     "model_name": "LayoutModel",
     "model_module_version": "1.2.0",
     "state": {
      "_view_name": "LayoutView",
      "grid_template_rows": null,
      "right": null,
      "justify_content": null,
      "_view_module": "@jupyter-widgets/base",
      "overflow": null,
      "_model_module_version": "1.2.0",
      "_view_count": null,
      "flex_flow": null,
      "width": null,
      "min_width": null,
      "border": null,
      "align_items": null,
      "bottom": null,
      "_model_module": "@jupyter-widgets/base",
      "top": null,
      "grid_column": null,
      "overflow_y": null,
      "overflow_x": null,
      "grid_auto_flow": null,
      "grid_area": null,
      "grid_template_columns": null,
      "flex": null,
      "_model_name": "LayoutModel",
      "justify_items": null,
      "grid_row": null,
      "max_height": null,
      "align_content": null,
      "visibility": null,
      "align_self": null,
      "height": null,
      "min_height": null,
      "padding": null,
      "grid_auto_rows": null,
      "grid_gap": null,
      "max_width": null,
      "order": null,
      "_view_module_version": "1.2.0",
      "grid_template_areas": null,
      "object_position": null,
      "object_fit": null,
      "grid_auto_columns": null,
      "margin": null,
      "display": null,
      "left": null
     }
    },
    "36446020fc7947ccb872070d51cd92ca": {
     "model_module": "@jupyter-widgets/base",
     "model_name": "LayoutModel",
     "model_module_version": "1.2.0",
     "state": {
      "_view_name": "LayoutView",
      "grid_template_rows": null,
      "right": null,
      "justify_content": null,
      "_view_module": "@jupyter-widgets/base",
      "overflow": null,
      "_model_module_version": "1.2.0",
      "_view_count": null,
      "flex_flow": null,
      "width": null,
      "min_width": null,
      "border": null,
      "align_items": null,
      "bottom": null,
      "_model_module": "@jupyter-widgets/base",
      "top": null,
      "grid_column": null,
      "overflow_y": null,
      "overflow_x": null,
      "grid_auto_flow": null,
      "grid_area": null,
      "grid_template_columns": null,
      "flex": null,
      "_model_name": "LayoutModel",
      "justify_items": null,
      "grid_row": null,
      "max_height": null,
      "align_content": null,
      "visibility": null,
      "align_self": null,
      "height": null,
      "min_height": null,
      "padding": null,
      "grid_auto_rows": null,
      "grid_gap": null,
      "max_width": null,
      "order": null,
      "_view_module_version": "1.2.0",
      "grid_template_areas": null,
      "object_position": null,
      "object_fit": null,
      "grid_auto_columns": null,
      "margin": null,
      "display": null,
      "left": null
     }
    }
   }
  }
 },
 "cells": [
  {
   "cell_type": "markdown",
   "source": [
    "## ANALISIS DE SEÑALES <a class=\"tocSkip\">\n",
    "### Ingenieria Electrónica <a class=\"tocSkip\">\n",
    "### Universidad Popular del Cesar <a class=\"tocSkip\">\n",
    "### Prof.: Jose Ramón Iglesias G. - [https://github.com/joseramoniglesias/](https://github.com/joseramoniglesias/) <a class=\"tocSkip\">\n",
    "**joseiglesias@unicesar.edu.co**"
   ],
   "metadata": {
    "collapsed": false
   }
  },
  {
   "cell_type": "markdown",
   "source": [
    "# Serie de Fourier\n",
    "- Se presentan los conceptos básicos de la serie de Fourier.\n",
    "\n",
    "- Sea $x(t)\\in \\mathbb{R},\\mathbb{C}$ una señal definida en el intervalo finito $t\\in[t_i,t_f]$ o $t\\in[-T/2,T/2]$, que cumple las [condiciones de Dirichlet](https://en.wikipedia.org/wiki/Dirichlet_conditions#:~:text=In%20mathematics%2C%20the%20Dirichlet%20conditions,point%20where%20f%20is%20continuous.):\n",
    "\n",
    "  - $\\int_T |x(t)| dt < \\infty$.\n",
    "  - $x(t)$ presenta discontinuidades hasta de primer orden.\n",
    "  - $x(t)$ presenta una cantidad finita de mínimos y máximos.\n",
    "\n",
    "- La representación generalizada de Fourier de $x(t)$ se puede definir a partir de un conjunto de funciones base ortogonales $\\{\\phi_n(t)\\in\\mathbb{R},\\mathbb{C}\\}_{n\\in\\mathbb{Z}}$, tal que:\n",
    "\n",
    "$$\n",
    "\\int_T \\phi_n(t)\\phi_m^*(t)dt =\\left\\{\\begin{align}\n",
    "0; & \\quad n\\neq m\\\\ E_n=\\int_T|\\phi_n(t)|^2dt; & \\quad n=m\\end{align}\\right.,\n",
    "$$\n",
    "\n",
    "mediante la combinación lineal:\n",
    "\n",
    "$$\\hat{x}(t)=\\sum_{n=-N}^N c_n \\phi_n(t)$$\n",
    "\n",
    "- A partir de la minimización de la potencia media del error $\\bar{P}_e = \\int_T |x(t)-\\hat{x}(t)|^2dt,$ los pesos $c_n\\in \\mathbb{R,C}$, denominados el espectro, se pueden calcular como:\n",
    "\n",
    "\n",
    "$$c_n = \\frac{\\langle x(t),\\phi_n(t) \\rangle}{\\|\\phi_n(t)\\|_2^2} = \\frac{\\int_T x(t)\\phi^*_n(t)dt}{\\int_T |\\phi_n(t)|^2dt}.$$\n",
    "\n",
    "\n",
    "- Además, la potencia media del error, $\\bar{P}_e$, se puede reescribir como:\n",
    "\n",
    "$$\\bar{P}_e = \\bar{P}_x-\\sum^N_{n=-N}|c_n|^2P_n \\geq 0$$\n",
    "\n",
    "- La anterior desigualdad se conoce como la [desigualdad de Bessel](https://en.wikipedia.org/wiki/Bessel%27s_inequality).\n",
    "\n",
    "- Para el caso en el que $N\\to \\infty,$ el [teorema de Parseval](https://en.wikipedia.org/wiki/Parseval%27s_theorem) establece que:\n",
    "\n",
    "\n",
    "$$\\lim_{N\\to \\infty} \\bar{P}_x-\\sum^N_{n=-N}|c_n|^2P_n = 0$$.\n",
    "\n",
    "- En este caso:\n",
    "\n",
    "$$P_n = \\frac{1}{T}\\int_T |\\phi_n(t)|^2dt$$\n",
    "\n",
    "**Nota**: A partir de la potencia media del error, se puede definir una medida normalizada, denominada error relativo, como:\n",
    "\n",
    "$$e_r[\\%] = \\frac{\\bar{P}_e}{\\bar{P_x}} 100[\\%] = \\left(1-\\frac{\\sum^N_{n=-N}|c_n|^2P_n}{\\bar{P}_e}\\right)100[\\%]$$\n",
    "\n",
    "\n",
    "\n"
   ],
   "metadata": {
    "collapsed": false
   }
  },
  {
   "cell_type": "markdown",
   "metadata": {
    "id": "Mq4NHPkLxRWj"
   },
   "source": [
    "# Serie de Fourier exponencial\n",
    "\n",
    "- Para la serie de Fourier exponencial, las bases se fijan como $\\{\\phi_n(t)=e^{jn\\omega_o t}\\}_{n\\in\\mathbb{Z}}$, por ende la reconstrucción de la señal se escribe según:\n",
    "\n",
    "$$\\hat{x}(t)=\\sum_{n=-N}^N c_ne^{jn\\omega_o t}$$\n",
    "\n",
    "donde $\\omega_o = \\frac{2\\pi}{tf-ti}=\\frac{2\\pi}{T}.$\n",
    "\n",
    "- Además, teniendo en cuenta que:\n",
    "\n",
    "$$\n",
    "\\int_T e^{jn\\omega_ot}e^{-jm\\omega_ot}dt =\\left\\{\\begin{align}\n",
    "0; & \\quad n\\neq m\\\\ E_n=\\int_T|e^{jn\\omega_o t}|^2dt=T; & \\quad n=m\\end{align}\\right.,\n",
    "$$\n",
    "\n",
    "- El espectro $c_n$ se puede calcular como:\n",
    "\n",
    "$$c_n = \\frac{1}{T}\\int_T x(t)e^{-jn\\omega_ot}dt$$\n",
    "\n",
    "- El espectro para $n=0$, se conoce comunmente como el nivel DC u offset (promedio) de la señal $x(t)$, ya que:\n",
    "\n",
    "$$c_0 = \\frac{1}{T}\\int_T x(t)e^{0}dt=\\frac{1}{T}\\int_T x(t)dt.$$\n",
    "\n",
    "**Nota:** Dado que $E_n=T$ para las bases de la serie de Fourier $e^{jn\\omega_ot},$ la potencia $P_n = 1.$\n",
    "\n",
    "- El espectro $c_n$, nos da una idea del parecido entre la señal de entrada $x(t)$ y la base $e^{jn\\omega_o t}$, dado el grado de variación según la frecuencia de las bases  $\\omega_n = nw\\omega_o,$ donde $n$ se conoce como el *armónico* o múltiplo de la frecuencia fundamental $\\omega_o$.\n",
    "\n",
    "- Por lo general, es de interés, el gráfico de magnitud y fase de $c_n$, donde: \n",
    "\n",
    "$$c_n=\\sqrt{{\\rm{Re}}^2\\{c_n\\}+{\\rm{Im}}^2\\{c_n\\}}$$ \n",
    "\n",
    "y \n",
    "\n",
    "$$\\theta_n = \\tan^{-1}\\left(\\frac{{\\rm{Im}}\\{c_n\\}}{{\\rm{Re}}\\{c_n\\}}\\right)$$.\n",
    "\n",
    "- En general, se habla del contenido frecuencial de la señal según el espectro de frecuencia $c_n$, y es ampliamente utilizado en ingeniería (por ejemplo ver [Diagramas de Bode](https://en.wikipedia.org/wiki/Bode_plot))."
   ]
  },
  {
   "cell_type": "markdown",
   "metadata": {
    "id": "JFqk87MIwuDx"
   },
   "source": [
    "# Serie de Fourier trigonométrica y compacta\n",
    "\n",
    "- Por facilidad de cálculo, la serie exponencial de Fourier se puede extender a sus versiones trigonométrica y compacta.\n",
    "\n",
    "- La serie trigonométrica asume que:\n",
    "\n",
    "$$\\hat{x}(t) = \\sum_{n=0}^{N}a_n\\cos(n\\omega_o t) + b_n\\sin(n\\omega_o t)$$.\n",
    "\n",
    "- Aplicando el mismo razomiento de representación mediante bases ortogonales, se tiene que:\n",
    "\n",
    "$$a_n = \\frac{\\langle x(t),\\cos(n\\omega_ot)\\rangle}{\\|\\cos(n\\omega_ot)\\|_2^2}=\\frac{\\int_Tx(t)\\cos(n\\omega_ot)dt}{\\int_T|\\cos(n\\omega_ot)|^2dt}$$\n",
    "\n",
    "$$a_n = \\frac{2}{T}\\int_Tx(t)\\cos(n\\omega_ot)dt$$\n",
    "\n",
    "y\n",
    "\n",
    "$$b_n = \\frac{\\langle x(t),\\sin(n\\omega_ot)\\rangle}{\\|\\sin(n\\omega_ot)\\|_2^2}=\\frac{\\int_Tx(t)\\sin(n\\omega_ot)dt}{\\int_T|\\sin(n\\omega_ot)|^2dt}$$\n",
    "\n",
    "$$b_n = \\frac{2}{T}\\int_Tx(t)\\sin(n\\omega_ot)dt$$\n",
    "\n",
    "- Para el caso particular $n=0$:\n",
    "\n",
    "$$a_0 = \\frac{\\int_Tx(t)\\cos(0)dt}{\\int_T|\\cos(0)|^2dt}=\\frac{\\int_Tx(t)dt}{\\int_Tdt}$$\n",
    "\n",
    "$$a_0 =c_0 = \\frac{1}{T}\\int_Tx(t)dt$$\n",
    "\n",
    "$$b_0 = \\frac{\\int_Tx(t)\\sin(0)dt}{\\int_T|\\sin(0)|^2dt}\\to 0$$\n",
    "\n",
    "$$b_0 = 0$$\n",
    "\n",
    "- Dado que $x(t)$ puede presentar simetría par o impar, $x(t)=x(-t)\\to$ SIMETRÍA PAR, $x(t)=-x(-t)\\to$ SIMETRÍA IMPAR, y dado que el $\\cos(\\theta)$ presenta simetría PAR y el $\\sin(\\theta)$ presenta simetría impar, la serie trigonométrica puede simplificar sus cálculos para cuando $x(t)$ presenta algún tipo de simetría (Ver [material apoyo](https://github.com/amalvarezme/SenalesSistemas/blob/master/3_SerieyTransformadaFourier/Simetria_SerieFourier.pdf)).\n",
    "\n",
    "- Finalmente, la serie trigonomérica compacta, resume la representación solo utilizando funciones coseno desafasadas:\n",
    "\n",
    "\\begin{equation}\n",
    "d_n = \\sqrt{a_n^2+b_n^2} = 2|c_n|; \\quad n > 0\n",
    "\\end{equation}\n",
    "\\begin{equation}\n",
    "d_0 = a_0;  \n",
    "\\end{equation}\n",
    "\n",
    "\\begin{equation}\n",
    "\\phi_n = \\tan^{-1}\\left(\\frac{\\mathcal{Im}\\{c_n\\}}{\\mathcal{Re}\\{c_n\\}}\\right) = \\tan^{-1}\\left(\\frac{-b_n}{a_n}\\right); \\quad n \\geq 0\n",
    "\\end{equation}\n",
    "\n",
    "y:\n",
    "\n",
    "\\begin{equation}\n",
    "\\hat{x}(t) = \\sum\\limits_{n=0}^N{d_n \\cos(n\\omega_ot+\\phi_n)}.\n",
    "\\end{equation}\n",
    "\n",
    "## Implementaciones\n",
    "\n",
    "- Si $x(t)$ presenta algun tipo de simetría, se sugiere utilizar la serie trigonométrica de Fourier, y para pasar a la exponencial, se puede utilizar la siguiente relación:\n",
    "\n",
    "\\begin{equation}\n",
    "c_n = \\frac{a_n - jb_n}{2}, \\quad n\\neq 0\\\\\n",
    "c_0 = a_0.\n",
    "\\end{equation}\n",
    "\n",
    "- Si se desea calcular la serie de Fourier exponencial, para pasar a su versión trigonométrica se puede utilizar la siguiente relación:\n",
    "\n",
    "$$a_0 = c_0, \\quad b_0 = 0$$\n",
    "\n",
    "$$a_n = 2{\\rm{Re\\{c_n\\}}}$$\n",
    "\n",
    "$$b_n = -2{\\rm{Im\\{c_n\\}}}$$\n"
   ]
  },
  {
   "cell_type": "markdown",
   "metadata": {
    "id": "eO5UjVfg0fBP"
   },
   "source": [
    "## Ejemplo\n",
    "\n",
    "- Sea la señal:\n",
    "\n",
    "\\begin{equation}\n",
    "x(t) = \\begin{cases} A, & -T/2 \\leq t < 0 \\\\ -A, & 0 \\leq t < T/2 \\end{cases}\n",
    "\\end{equation}\n",
    "\n",
    "- Su espectro en serie de Fourier (compleja), se calcula como:\n",
    "\n",
    "\\begin{equation}\n",
    "c_n = \\frac{1}{T}\\int^{T/2}_{-T/2}{x(t)e^{-jn\\omega_o t}}dt=\\frac{jA}{n\\pi}(1-(-1)^n); \\quad n\\neq 0\n",
    "\\end{equation}\n",
    "\n",
    "donde \n",
    "\n",
    "\\begin{equation}\n",
    "c_0 = \\frac{1}{T}\\int^{T/2}_{-T/2}{x(t)}dt=0\n",
    "\\end{equation}\n",
    "y\n",
    "\n",
    "\\begin{equation}\n",
    "\\hat{x}(t) = \\sum\\limits_{n=-N}^N{c_n e^{jn\\omega_ot}}.\n",
    "\\end{equation}\n",
    "\n",
    "Además, su espectro en serie de Fourier (trigonométrica) se calcula como:\n",
    "\n",
    "\\begin{equation}\n",
    "a_n = \\frac{2}{T}\\int^{T/2}_{-T/2}{x(t)\\cos(n\\omega_o t)}dt=2\\mathcal{Re}\\{c_n\\}= 0; \\quad n > 0\n",
    "\\end{equation}\n",
    "\\begin{equation}\n",
    "a_0 = c_0 = 0.\n",
    "\\end{equation}\n",
    "\n",
    "\\begin{equation}\n",
    "b_n = \\frac{2}{T}\\int^{T/2}_{-T/2}{x(t)\\sin(n\\omega_o t)}dt=-2\\mathcal{Im}\\{c_n\\}=\\frac{2A}{n\\pi}((-1)^n-1); \\quad n > 0\n",
    "\\end{equation}\n",
    "\\begin{equation}\n",
    "b_0 = 0.\n",
    "\\end{equation}\n",
    "\n",
    "y:\n",
    "\n",
    "\\begin{equation}\n",
    "\\hat{x}(t) = a_0+\\sum\\limits_{n=1}^N{a_n \\cos(n\\omega_ot)+b_n\\sin{n\\omega_ot}}.\n",
    "\\end{equation}\n",
    "\n",
    "\n",
    "Por otra parte, su espectro en serie de Fourier compacta se calcula como:\n",
    "\n",
    "\\begin{equation}\n",
    "d_n = \\sqrt{a_n^2+b_n^2} = 2|c_n| = \\frac{2A}{n\\pi}((-1)^n-1); \\quad n > 0\n",
    "\\end{equation}\n",
    "\\begin{equation}\n",
    "d_0 = a_0;  \n",
    "\\end{equation}\n",
    "\n",
    "\\begin{equation}\n",
    "\\phi_n = \\tan^{-1}\\left(\\frac{\\mathcal{Im}\\{c_n\\}}{\\mathcal{Re}\\{c_n\\}}\\right) = \\tan^{-1}\\left(\\frac{-b_n}{a_n}\\right); \\quad n \\geq 0\n",
    "\\end{equation}\n",
    "\n",
    "- A continuación, se presentan las simulaciones respectivas."
   ]
  },
  {
   "cell_type": "code",
   "metadata": {
    "id": "Guk1vk_U0fBR",
    "colab": {
     "base_uri": "https://localhost:8080/",
     "height": 286
    },
    "outputId": "f2d92100-1759-4989-e1be-591cc3e03376"
   },
   "source": [
    "# Para graficar\n",
    "%matplotlib inline\n",
    "import matplotlib as mpl\n",
    "import matplotlib.pyplot as plt\n",
    "import numpy as np\n",
    "import warnings\n",
    "warnings.filterwarnings(\"ignore\")\n",
    "\n",
    "mpl.rc('axes', labelsize=14)\n",
    "mpl.rc('xtick', labelsize=12)\n",
    "mpl.rc('ytick', labelsize=12)\n",
    "\n",
    "A = 1 # amplitud de la señal\n",
    "T = 5 # segundos de gráfica\n",
    "Fs = 1000 # frecuencia de muestreo definida\n",
    "tv = np.arange(-T/2,T/2,1/Fs) #vector de tiempo generado\n",
    "Nm = len(tv) #numero de muestras requeridas\n",
    "\n",
    "#se crea la señal A y -A concatenando \n",
    "xo = np.concatenate((A*np.ones(int(Nm/2)), -A*np.ones(int(Nm/2))), axis=0)\n",
    "#graficar señal original\n",
    "plt.plot(tv,xo,'r',linewidth=4)\n",
    "plt.grid()\n",
    "plt.xlabel(\"t[s]\",fontsize = 14)\n",
    "plt.ylabel(\"x(t)\",fontsize = 14)\n",
    "plt.show()"
   ],
   "execution_count": 1,
   "outputs": [
    {
     "data": {
      "text/plain": "<Figure size 640x480 with 1 Axes>",
      "image/png": "[encoded data removed]"
     },
     "metadata": {},
     "output_type": "display_data"
    }
   ]
  },
  {
   "cell_type": "markdown",
   "metadata": {
    "id": "DRN68VrH0fBY"
   },
   "source": [
    "- Para ilustrar las bases de Fourier, se crea una matriz con la cantidad de armónicos deseados según la variable $N$. Cada base se guarda como una columna de la matriz `phiN`.\n"
   ]
  },
  {
   "cell_type": "code",
   "metadata": {
    "id": "CJuiPCIl0fBZ"
   },
   "source": [
    "N = 20 #numero armonicos\n",
    "wo = 2*np.pi/T # frecuencia fundamental\n",
    "# definir bases\n",
    "phin = np.zeros((Nm,2*N+1),dtype=np.complex_)#crear matriz para guardar bases\n",
    "for n in range(-N,N+1,1):\n",
    "    phin[:,n+N] = np.exp(1j*n*wo*tv)#base de fourier en el intervalo de interés"
   ],
   "execution_count": 2,
   "outputs": []
  },
  {
   "cell_type": "code",
   "metadata": {
    "id": "VDtiQzzn0fBh",
    "colab": {
     "base_uri": "https://localhost:8080/",
     "height": 335,
     "referenced_widgets": [
      "145619a56937427bb02bdec243652ee0",
      "2b7f187d35474f9dae1b2a2c345c413f",
      "a3945a16329c4cbab30a59a1cbeb0110",
      "4968a7ab109a420e894e4122af16b836",
      "fb68341750cd43538f4474f425a39c7e",
      "b2c5704ea1774d238698c2b095149f56",
      "5427f740cd794534b0bad4e18c693b6c"
     ]
    },
    "outputId": "04cd9f2d-cad8-4423-d3a2-53380cb1b19f"
   },
   "source": [
    "# graficar bases\n",
    "from ipywidgets import interact,IntSlider\n",
    "\n",
    "def pltbase(n=1):\n",
    "    plt.plot(tv,np.real(phin[:,int(n+N)]),label=\"Re{$\\phi_n$(t)}\")\n",
    "    plt.xlabel(\"t[s]\",fontsize = 14)\n",
    "    plt.ylabel(\"$\\phi_n$(t)\",fontsize = 14)\n",
    "    plt.plot(tv,np.imag(phin[:,int(n+N)]),label=\"Im{$\\phi_n$(t)}\")\n",
    "    plt.grid()\n",
    "    plt.plot(tv,xo,'r',linewidth=4,label='$x(t)$')\n",
    "    plt.legend()\n",
    "    plt.show()\n",
    "    return\n",
    "interact(pltbase,n=(-N,N,1))"
   ],
   "execution_count": 3,
   "outputs": [
    {
     "data": {
      "text/plain": "interactive(children=(IntSlider(value=1, description='n', max=20, min=-20), Output()), _dom_classes=('widget-i…",
      "application/vnd.jupyter.widget-view+json": {
       "version_major": 2,
       "version_minor": 0,
       "model_id": "25292ed2482e451990c27005bf91e0e0"
      }
     },
     "metadata": {},
     "output_type": "display_data"
    },
    {
     "data": {
      "text/plain": "<function __main__.pltbase(n=1)>"
     },
     "execution_count": 3,
     "metadata": {},
     "output_type": "execute_result"
    }
   ]
  },
  {
   "cell_type": "markdown",
   "metadata": {
    "id": "WX-RGfmB6Mck"
   },
   "source": [
    "Note que el valor del armónico $n$ para cada gráfica, denota la cantidad de ciclos de las funciones coseno y seno en el intervalo $t\\in[t_i,t_f].$"
   ]
  },
  {
   "cell_type": "markdown",
   "metadata": {
    "id": "UzJFBZU86_3e"
   },
   "source": [
    "# Definición y gráfica del espectro de la serie de Fourier con numpy\n",
    "\n",
    "La siguiente celda de código codifica el espectro $c_n$ según el ejemplo resuelto.\n",
    "\n"
   ]
  },
  {
   "cell_type": "code",
   "metadata": {
    "id": "WM7xPTZN0fBo"
   },
   "source": [
    "#calcular espectro -> cambiar según la señal estudiada\n",
    "cn = np.zeros(2*N+1,dtype=np.complex_)\n",
    "nv = np.linspace(-N, N, 2*N+1) #vector num armónicos\n",
    "Cn = ((1j*A)/(nv*np.pi))*(1-(-1)**nv) \n",
    "Cn[N] = 0 # nivel dc C_0 "
   ],
   "execution_count": null,
   "outputs": []
  },
  {
   "cell_type": "code",
   "metadata": {
    "id": "8HFSa5gg0fBr",
    "colab": {
     "base_uri": "https://localhost:8080/",
     "height": 585
    },
    "outputId": "536abe9f-5950-4aca-dca6-b81a52430a46"
   },
   "source": [
    "#graficar espectro\n",
    "fig = plt.figure(figsize=(8,8))\n",
    "plt.subplot(2,2,1)\n",
    "plt.stem(nv, np.real(Cn), 'r')\n",
    "plt.xlabel(r'$nw_o$[rad/s]',fontsize = 14)\n",
    "plt.ylabel(r'$Re\\{C_n\\}$',fontsize = 14)\n",
    "plt.axis('tight')\n",
    "plt.grid()\n",
    "\n",
    "plt.subplot(2,2,2)\n",
    "plt.stem(nv, np.imag(Cn), 'r')\n",
    "plt.xlabel(r'$nw_o$[rad/s]',fontsize = 14)\n",
    "plt.ylabel(r'$Im\\{C_n\\}$',fontsize = 14)\n",
    "plt.axis('tight')\n",
    "plt.grid()\n",
    "\n",
    "plt.subplot(2,2,3)\n",
    "plt.stem(nv, abs(Cn), 'r')#magnitud del espectro\n",
    "plt.xlabel(r'$nw_o$[rad/s]',fontsize = 14)\n",
    "plt.ylabel(r'$|C_n|$',fontsize = 14)\n",
    "plt.axis('tight')\n",
    "plt.grid()\n",
    "\n",
    "plt.subplot(2,2,4)\n",
    "plt.stem(nv, np.angle(Cn), 'r')#fase del espectro\n",
    "plt.xlabel(r'$nw_o$[rad/s]',fontsize = 14)\n",
    "plt.ylabel(r'$\\langle C_n$',fontsize = 14)\n",
    "plt.axis('tight')\n",
    "plt.grid()\n",
    "\n",
    "fig.tight_layout()"
   ],
   "execution_count": null,
   "outputs": [
    {
     "output_type": "display_data",
     "data": {
      "image/png": "[encoded data removed]",
      "text/plain": [
       "<Figure size 576x576 with 4 Axes>"
      ]
     },
     "metadata": {
      "needs_background": "light"
     }
    }
   ]
  },
  {
   "cell_type": "markdown",
   "metadata": {
    "id": "iH45uMad0fBv"
   },
   "source": [
    "- Para calcular el error de reconstrucción respecto a la cantidad de armónicos considerados (filtrado espectral), se cálcula como:\n",
    "\n",
    "$$e_r[\\%] = \\frac{\\bar{P}_e}{\\bar{P_x}} 100[\\%] = \\left(1-\\frac{\\sum^N_{n=-N}|c_n|^2P_n}{\\bar{P}_e}\\right)100[\\%]$$\n",
    "\n",
    "- En este caso, la potencia de $x(t)$ se cálcula como:\n",
    "\n",
    "\\begin{equation}\n",
    "P_x = \\int\\limits_{-T/2}^{T/2}{|x(t)^2|dt} = A^2\n",
    "\\end{equation}\n",
    "para el caso de la serie exponencial de Fourier $\\varphi_n(t)=e^{jn\\omega_ot}$ y $P_n=1$, por consiguiente:\n",
    "\n",
    "\\begin{equation}\n",
    "E_r[\\%] = 1 - \\left(\\frac{1}{P_x}\\sum\\limits_{n=-N}^N{|c_n|^2}\\right).\n",
    "\\end{equation}\n",
    "\n",
    "- A continuación, se cálcula el error relativo en función de los armónicos considerados y se muestra la señal filtrada para cada caso.\n"
   ]
  },
  {
   "cell_type": "code",
   "metadata": {
    "id": "jrVO9oId0fBw",
    "colab": {
     "base_uri": "https://localhost:8080/",
     "height": 353,
     "referenced_widgets": [
      "1ff06a2edcd141eba1c67825a7215cd2",
      "fb567af8d5054f9ebcb7c26777995c18",
      "a189de71197b423992108943b5eac08c",
      "1440eb4a76314b6cbaad74d2a0fcabf5",
      "f866277c2f73476ca35974997b090166",
      "0050ccb447fc463583dddae20f0055c1",
      "36446020fc7947ccb872070d51cd92ca"
     ]
    },
    "outputId": "a123b253-fdac-4449-fd84-44ac4773a853"
   },
   "source": [
    "Px = A**2 # estimar según señal estudiada\n",
    "def pltest(Na=1):\n",
    "    ind = range(N-Na,N+Na+1)\n",
    "    er = 1- np.sum(abs(Cn[ind])**2)/Px\n",
    "    #señal reconstruida\n",
    "    xe = phin[:,ind].dot(Cn[ind] ) # dot calcula el producto entre vectores\n",
    "    plt.plot(tv,xe,color='b',label='$x_e(t)$') # señal estimada o filtrada\n",
    "    plt.plot(tv,xo,color='r',label='x') #señal original\n",
    "    plt.title('E_r=%.2f[%%]' % (100*er),fontsize=16)\n",
    "    plt.xlabel('t[s]')\n",
    "    plt.ylabel('x(t)')\n",
    "    plt.grid()\n",
    "    plt.legend()\n",
    "    plt.show()\n",
    "    return\n",
    "interact(pltest,Na=(1,N,1))"
   ],
   "execution_count": null,
   "outputs": [
    {
     "output_type": "display_data",
     "data": {
      "application/vnd.jupyter.widget-view+json": {
       "model_id": "1ff06a2edcd141eba1c67825a7215cd2",
       "version_minor": 0,
       "version_major": 2
      },
      "text/plain": [
       "interactive(children=(IntSlider(value=1, description='Na', max=20, min=1), Output()), _dom_classes=('widget-in…"
      ]
     },
     "metadata": {}
    },
    {
     "output_type": "execute_result",
     "data": {
      "text/plain": [
       "<function __main__.pltest>"
      ]
     },
     "metadata": {},
     "execution_count": 59
    }
   ]
  },
  {
   "cell_type": "markdown",
   "metadata": {
    "id": "w5aMOdpMQWJu"
   },
   "source": [
    "# El fenómeno de Gibbs y la serie de Fourier\n",
    "\n",
    "**Nota**: Para discontinuidades de primer orden ($dx(t)/dt =0$), la serie de Fourier aproxima la señal como el promedio $(x(t_+)+x(t_-))/2$. En el anterior fenómeno se conoce como el [fenómeno de Gibbs](https://es.wikipedia.org/wiki/Fen%C3%B3meno_de_Gibbs)."
   ]
  },
  {
   "cell_type": "markdown",
   "metadata": {
    "id": "391S3mxMR6W0"
   },
   "source": [
    "# Reconstrucción de la serie por fuera del intervalo definido\n",
    "\n",
    "- Por la naturaleza períodica de las bases, la serie de Fourier asume que la señal a reconstruir también es periódica, con periodo $T = t_f - t_i$ y frecuencia fundamental $\\omega_0=2\\pi/T.$\n",
    "\n",
    "- En este sentido, si se evalua la reconstrucción por fuera del intervalo finito definido $[t_i,t_f]$, la serie de Fourier replica la reconstrucción (asume señal periódica $x(t)$)."
   ]
  },
  {
   "cell_type": "code",
   "metadata": {
    "id": "THdbNVK7d0NE",
    "colab": {
     "base_uri": "https://localhost:8080/",
     "height": 286
    },
    "outputId": "392acf82-113e-4d04-a81b-bfb2cc3df22d"
   },
   "source": [
    "tT = np.arange(-2*T,2*T,1/Fs) # se grafican 3 periodos\n",
    "# definir bases\n",
    "phinT = np.zeros((len(tT),2*N+1),dtype=np.complex_)\n",
    "for n in range(-N,N+1,1):\n",
    "    phinT[:,n+N] = np.exp(1j*n*wo*tT)\n",
    "\n",
    "xe2 = phinT.dot(Cn)#reconstrucción de la señal\n",
    "plt.plot(tT,xe2)\n",
    "plt.xlabel('t[s]')\n",
    "plt.ylabel('$\\hat{x}(t)$')\n",
    "plt.show()"
   ],
   "execution_count": null,
   "outputs": [
    {
     "output_type": "display_data",
     "data": {
      "image/png": "[encoded data removed]",
      "text/plain": [
       "<Figure size 432x288 with 1 Axes>"
      ]
     },
     "metadata": {
      "needs_background": "light"
     }
    }
   ]
  },
  {
   "cell_type": "code",
   "metadata": {
    "id": "9aUE1hI7SK48"
   },
   "source": [],
   "execution_count": null,
   "outputs": []
  }
 ]
}
