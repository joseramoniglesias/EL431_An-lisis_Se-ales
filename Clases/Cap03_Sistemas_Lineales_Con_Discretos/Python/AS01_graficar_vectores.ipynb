{
 "cells": [
  {
   "cell_type": "markdown",
   "source": [
    "# Espacios Vectoriales\n",
    "## Universidad Popular del Cesar\n",
    "## Curso Análisis de Señales\n",
    "## Prof.: José Ramón Iglesias Gamarra"
   ],
   "metadata": {
    "collapsed": false
   }
  },
  {
   "cell_type": "code",
   "execution_count": 1,
   "outputs": [],
   "source": [
    "def graficarVectores(vecs, cols, alpha=1):\n",
    "    plt.figure()\n",
    "    plt.axvline(x=0, color=\"grey\", zorder=0)\n",
    "    plt.axhline(y=0, color=\"grey\", zorder=0)\n",
    "\n",
    "    for i in range(len(vecs)):\n",
    "        # El origen de los vectores inicia en el punto (0,0)\n",
    "        x = np.concatenate([[0,0], vecs[i]])\n",
    "        plt.quiver(\n",
    "            [x[0]],\n",
    "            [x[1]],\n",
    "            [x[2]],\n",
    "            [x[3]],\n",
    "            angles='xy',\n",
    "            scale_units='xy',\n",
    "            scale=1,\n",
    "            color=cols[i],\n",
    "            alpha=alpha\n",
    "        )"
   ],
   "metadata": {
    "collapsed": false
   }
  },
  {
   "cell_type": "code",
   "execution_count": null,
   "outputs": [],
   "source": [],
   "metadata": {
    "collapsed": false
   }
  }
 ],
 "nbformat": 4,
 "nbformat_minor": 2,
 "metadata": {
  "orig_nbformat": 2,
  "deepnote": {
   "is_reactive": false
  },
  "deepnote_notebook_id": "9779e4c1-b332-4def-8234-6ae5cad9d33d",
  "deepnote_execution_queue": []
 }
}
